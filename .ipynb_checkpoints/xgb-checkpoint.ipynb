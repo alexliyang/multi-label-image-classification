{
 "cells": [
  {
   "cell_type": "code",
   "execution_count": 4,
   "metadata": {},
   "outputs": [],
   "source": [
    "import numpy as np\n",
    "import os\n",
    "import pandas as pd\n",
    "import random\n",
    "from tqdm import tqdm\n",
    "import xgboost as xgb\n",
    "\n",
    "import scipy\n",
    "from sklearn.metrics import fbeta_score\n",
    "\n",
    "from PIL import Image"
   ]
  },
  {
   "cell_type": "code",
   "execution_count": 5,
   "metadata": {
    "collapsed": true
   },
   "outputs": [],
   "source": [
    "random_seed = 0\n",
    "random.seed(random_seed)\n",
    "np.random.seed(random_seed)\n",
    "\n",
    "# Load data\n",
    "train_path = './data/train-jpg/'\n",
    "test_path = './data/test-jpg/'\n",
    "train = pd.read_csv('./data/train.csv')\n",
    "test = pd.read_csv('./data/sample_submission.csv')"
   ]
  },
  {
   "cell_type": "code",
   "execution_count": 7,
   "metadata": {
    "collapsed": true
   },
   "outputs": [],
   "source": [
    "def extract_features(df, data_path):\n",
    "    im_features = df.copy()\n",
    "\n",
    "    r_mean = []\n",
    "    g_mean = []\n",
    "    b_mean = []\n",
    "\n",
    "    r_std = []\n",
    "    g_std = []\n",
    "    b_std = []\n",
    "\n",
    "    r_max = []\n",
    "    g_max = []\n",
    "    b_max = []\n",
    "\n",
    "    r_min = []\n",
    "    g_min = []\n",
    "    b_min = []\n",
    "\n",
    "    r_kurtosis = []\n",
    "    g_kurtosis = []\n",
    "    b_kurtosis = []\n",
    "    \n",
    "    r_skewness = []\n",
    "    g_skewness = []\n",
    "    b_skewness = []\n",
    "\n",
    "    for image_name in tqdm(im_features.image_name.values, miniters=100): \n",
    "        im = Image.open(data_path + image_name + '.jpg')\n",
    "        im = np.array(im)[:,:,:3]\n",
    "\n",
    "        r_mean.append(np.mean(im[:,:,0].ravel()))\n",
    "        g_mean.append(np.mean(im[:,:,1].ravel()))\n",
    "        b_mean.append(np.mean(im[:,:,2].ravel()))\n",
    "\n",
    "        r_std.append(np.std(im[:,:,0].ravel()))\n",
    "        g_std.append(np.std(im[:,:,1].ravel()))\n",
    "        b_std.append(np.std(im[:,:,2].ravel()))\n",
    "\n",
    "        r_max.append(np.max(im[:,:,0].ravel()))\n",
    "        g_max.append(np.max(im[:,:,1].ravel()))\n",
    "        b_max.append(np.max(im[:,:,2].ravel()))\n",
    "\n",
    "        r_min.append(np.min(im[:,:,0].ravel()))\n",
    "        g_min.append(np.min(im[:,:,1].ravel()))\n",
    "        b_min.append(np.min(im[:,:,2].ravel()))\n",
    "\n",
    "        r_kurtosis.append(scipy.stats.kurtosis(im[:,:,0].ravel()))\n",
    "        g_kurtosis.append(scipy.stats.kurtosis(im[:,:,1].ravel()))\n",
    "        b_kurtosis.append(scipy.stats.kurtosis(im[:,:,2].ravel()))\n",
    "        \n",
    "        r_skewness.append(scipy.stats.skew(im[:,:,0].ravel()))\n",
    "        g_skewness.append(scipy.stats.skew(im[:,:,1].ravel()))\n",
    "        b_skewness.append(scipy.stats.skew(im[:,:,2].ravel()))\n",
    "        \n",
    "        \n",
    "    im_features['r_mean'] = r_mean\n",
    "    im_features['g_mean'] = g_mean\n",
    "    im_features['b_mean'] = b_mean\n",
    "\n",
    "    im_features['r_std'] = r_std\n",
    "    im_features['g_std'] = g_std\n",
    "    im_features['b_std'] = b_std\n",
    "\n",
    "    im_features['r_max'] = r_max\n",
    "    im_features['g_max'] = g_max\n",
    "    im_features['b_max'] = b_max\n",
    "\n",
    "    im_features['r_min'] = r_min\n",
    "    im_features['g_min'] = g_min\n",
    "    im_features['b_min'] = b_min\n",
    "\n",
    "    im_features['r_kurtosis'] = r_kurtosis\n",
    "    im_features['g_kurtosis'] = g_kurtosis\n",
    "    im_features['b_kurtosis'] = b_kurtosis\n",
    "    \n",
    "    im_features['r_skewness'] = r_skewness\n",
    "    im_features['g_skewness'] = g_skewness\n",
    "    im_features['b_skewness'] = b_skewness\n",
    "    \n",
    "    return im_features\n"
   ]
  },
  {
   "cell_type": "code",
   "execution_count": 8,
   "metadata": {},
   "outputs": [
    {
     "name": "stderr",
     "output_type": "stream",
     "text": [
      "\r",
      "  0%|          | 0/40479 [00:00<?, ?it/s]"
     ]
    },
    {
     "name": "stdout",
     "output_type": "stream",
     "text": [
      "Extracting train features\n"
     ]
    },
    {
     "name": "stderr",
     "output_type": "stream",
     "text": [
      "100%|██████████| 40479/40479 [05:00<00:00, 134.77it/s]\n",
      "  0%|          | 0/40669 [00:00<?, ?it/s]"
     ]
    },
    {
     "name": "stdout",
     "output_type": "stream",
     "text": [
      "Extracting test features\n"
     ]
    },
    {
     "name": "stderr",
     "output_type": "stream",
     "text": [
      "100%|██████████| 40669/40669 [04:27<00:00, 151.98it/s]\n"
     ]
    }
   ],
   "source": [
    "# Extract features\n",
    "print('Extracting train features')\n",
    "train_features = extract_features(train, train_path)\n",
    "print('Extracting test features')\n",
    "test_features = extract_features(test, test_path)"
   ]
  },
  {
   "cell_type": "code",
   "execution_count": 9,
   "metadata": {
    "collapsed": true
   },
   "outputs": [],
   "source": [
    "# Prepare data\n",
    "X = np.array(train_features.drop(['image_name', 'tags'], axis=1))\n",
    "y_train = []\n",
    "\n",
    "flatten = lambda l: [item for sublist in l for item in sublist]\n",
    "labels = np.array(list(set(flatten([l.split(' ') for l in train_features['tags'].values]))))\n",
    "\n",
    "label_map = {l: i for i, l in enumerate(labels)}\n",
    "inv_label_map = {i: l for l, i in label_map.items()}\n"
   ]
  },
  {
   "cell_type": "code",
   "execution_count": 10,
   "metadata": {},
   "outputs": [
    {
     "name": "stderr",
     "output_type": "stream",
     "text": [
      "100%|██████████| 40479/40479 [00:00<00:00, 359455.45it/s]"
     ]
    },
    {
     "name": "stdout",
     "output_type": "stream",
     "text": [
      "X.shape = (40479, 18)\n",
      "y.shape = (40479, 17)\n"
     ]
    },
    {
     "name": "stderr",
     "output_type": "stream",
     "text": [
      "\n"
     ]
    }
   ],
   "source": [
    "for tags in tqdm(train.tags.values, miniters=1000):\n",
    "    targets = np.zeros(17)\n",
    "    for t in tags.split(' '):\n",
    "        targets[label_map[t]] = 1 \n",
    "    y_train.append(targets)\n",
    "    \n",
    "y = np.array(y_train, np.uint8)\n",
    "\n",
    "print('X.shape = ' + str(X.shape))\n",
    "print('y.shape = ' + str(y.shape))"
   ]
  },
  {
   "cell_type": "code",
   "execution_count": 11,
   "metadata": {},
   "outputs": [
    {
     "name": "stdout",
     "output_type": "stream",
     "text": [
      "Training and making predictions\n"
     ]
    }
   ],
   "source": [
    "n_classes = y.shape[1]\n",
    "\n",
    "X_test = np.array(test_features.drop(['image_name', 'tags'], axis=1))\n",
    "\n",
    "# Train and predict with one-vs-all strategy\n",
    "y_pred = np.zeros((X_test.shape[0], n_classes))\n",
    "\n",
    "print('Training and making predictions')"
   ]
  },
  {
   "cell_type": "code",
   "execution_count": 15,
   "metadata": {},
   "outputs": [
    {
     "name": "stderr",
     "output_type": "stream",
     "text": [
      "100%|██████████| 17/17 [01:06<00:00,  3.84s/it]\n"
     ]
    }
   ],
   "source": [
    "for class_i in tqdm(range(n_classes), miniters=1): \n",
    "    model = xgb.XGBClassifier(max_depth=5, learning_rate=0.1, n_estimators=100, \\\n",
    "                              silent=True, objective='binary:logistic', nthread=-1, \\\n",
    "                              gamma=0, min_child_weight=1, max_delta_step=0, \\\n",
    "                              subsample=1, colsample_bytree=1, colsample_bylevel=1, \\\n",
    "                              reg_alpha=0, reg_lambda=1, scale_pos_weight=1, \\\n",
    "                              base_score=0.5, seed=random_seed, missing=None)\n",
    "    model.fit(X, y[:, class_i])\n",
    "    y_pred[:, class_i] = model.predict_proba(X_test)[:, 1]"
   ]
  },
  {
   "cell_type": "code",
   "execution_count": 16,
   "metadata": {
    "collapsed": true
   },
   "outputs": [],
   "source": [
    "preds = [' '.join(labels[y_pred_row > 0.2]) for y_pred_row in y_pred]\n",
    "\n",
    "subm = pd.DataFrame()\n",
    "subm['image_name'] = test_features.image_name.values\n",
    "subm['tags'] = preds\n",
    "subm.to_csv('submissionxgb.csv', index=False)"
   ]
  },
  {
   "cell_type": "code",
   "execution_count": null,
   "metadata": {
    "collapsed": true
   },
   "outputs": [],
   "source": []
  }
 ],
 "metadata": {
  "kernelspec": {
   "display_name": "Python 2",
   "language": "python",
   "name": "python2"
  },
  "language_info": {
   "codemirror_mode": {
    "name": "ipython",
    "version": 2
   },
   "file_extension": ".py",
   "mimetype": "text/x-python",
   "name": "python",
   "nbconvert_exporter": "python",
   "pygments_lexer": "ipython2",
   "version": "2.7.12"
  }
 },
 "nbformat": 4,
 "nbformat_minor": 2
}
