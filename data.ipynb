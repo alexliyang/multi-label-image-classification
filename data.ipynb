{
 "cells": [
  {
   "cell_type": "code",
   "execution_count": 1,
   "metadata": {},
   "outputs": [
    {
     "name": "stderr",
     "output_type": "stream",
     "text": [
      "Using TensorFlow backend.\n"
     ]
    }
   ],
   "source": [
    "from keras.preprocessing.image import ImageDataGenerator, array_to_img, img_to_array, load_img\n",
    "import numpy as np \n",
    "import pandas as pd\n",
    "import os\n",
    "import glob\n",
    "import skimage.io as io"
   ]
  },
  {
   "cell_type": "code",
   "execution_count": 21,
   "metadata": {},
   "outputs": [],
   "source": [
    "img = io.imread('./data/train-tif-sample/train_0.tif')\n",
    "img = img[:,:,3]\n",
    "img = img.astype('float32')"
   ]
  },
  {
   "cell_type": "code",
   "execution_count": 22,
   "metadata": {},
   "outputs": [],
   "source": [
    "image = np.ndarray((1,256,256,4),dtype=np.float32)\n",
    "img3 = load_img('./data/train-jpg/train_0.jpg')\n",
    "img3 = img_to_array(img3)"
   ]
  },
  {
   "cell_type": "code",
   "execution_count": 23,
   "metadata": {},
   "outputs": [],
   "source": [
    "image[0,:,:,0:3] = img3/255\n",
    "image[0,:,:,3] = img/np.power(2,16)"
   ]
  },
  {
   "cell_type": "code",
   "execution_count": 65,
   "metadata": {},
   "outputs": [
    {
     "data": {
      "text/plain": [
       "(40668, 2)"
      ]
     },
     "execution_count": 65,
     "metadata": {},
     "output_type": "execute_result"
    }
   ],
   "source": [
    "df = pd.read_csv('./data/train_tap.csv')\n",
    "npdf = df.values[:,:]\n",
    "np.random.shuffle(npdf)\n",
    "train_num = 35000\n",
    "train_df = npdf[0:train_num]\n",
    "val_df = npdf[train_num:]\n",
    "\n",
    "tdf = pd.read_csv('./data/sample_submission.csv')\n",
    "nptdf = tdf.values[:,:]"
   ]
  },
  {
   "cell_type": "code",
   "execution_count": 52,
   "metadata": {
    "collapsed": true
   },
   "outputs": [],
   "source": [
    "def strToarr(strin):\n",
    "\n",
    "\t\t'''\n",
    "\t\tconvert str to nparray\n",
    "\t\tex. '[0 1 0 1 0]' => [0,1,0,1,0]\n",
    "\t\t'''\n",
    "\t\tstrarr = strin[1:len(strin)-1].split(\" \")\n",
    "\t\tfor i in range(len(strarr)):\n",
    "\t\t\tstrarr[i] = int(strarr[i])\n",
    "\t\treturn np.array(strarr)"
   ]
  },
  {
   "cell_type": "code",
   "execution_count": 68,
   "metadata": {},
   "outputs": [
    {
     "name": "stdout",
     "output_type": "stream",
     "text": [
      "(100, 255, 255, 17)\n",
      "(99, 255, 255, 17)\n"
     ]
    }
   ],
   "source": [
    "train_label = np.ndarray((100,255,255,17),dtype = np.uint8)\n",
    "print train_label.shape\n",
    "train_label = np.delete(train_label,0,0)\n",
    "print train_label.shape"
   ]
  },
  {
   "cell_type": "code",
   "execution_count": 10,
   "metadata": {},
   "outputs": [
    {
     "data": {
      "text/plain": [
       "array([[ 105.,  102.,  101., ...,  103.,  103.,  103.],\n",
       "       [ 102.,  100.,  100., ...,  102.,  103.,  103.],\n",
       "       [ 100.,   99.,   99., ...,  101.,  102.,  102.],\n",
       "       ..., \n",
       "       [ 108.,  107.,  107., ...,  106.,  106.,  102.],\n",
       "       [ 107.,  107.,  106., ...,  105.,  105.,  101.],\n",
       "       [ 106.,  105.,  105., ...,  104.,  103.,   98.]], dtype=float32)"
      ]
     },
     "execution_count": 10,
     "metadata": {},
     "output_type": "execute_result"
    }
   ],
   "source": [
    "train_data = np.ndarray((train_num,256,256,4),dtype = np.float32)\n",
    "train_label = np.ndarray((train_num,17),dtype = np.uint8)\n",
    "train_err = []\n",
    "for i,row in enumerate(train_df):\n",
    "    print i,row\n",
    "    try:\n",
    "        imgname = row[0]\n",
    "        strlabel = row[1]\n",
    "        imgname = imgname.replace(' ','_')\n",
    "        img3 = load_img('./data/train-jpg/'+imgname+'.jpg')\n",
    "        img3 = img_to_array(img3)\n",
    "        img4 = io.imread('./data/train-tif/'+imgname+'.tif')\n",
    "        img4 = img4[:,:,3].astype('float32')\n",
    "        train_data[i,:,:,0:3] = img3/255\n",
    "        train_data[i,:,:,3] = img4/np.power(2,16)\n",
    "        train_label[i] = strToarr(strlabel)\n",
    "    except:\n",
    "        train_err.append(row[0])\n",
    "        train_data = np.delete(train_data,i,0)\n",
    "        train_label = np.delete(train_label,i,0)\n",
    "    \n",
    "np.save('./data/npydata/train_data.npy', train_data)\n",
    "np.save('./data/npydata/train_label.npy', train_label)\n",
    "print train_data.shape\n",
    "print train_label.shape\n",
    "print train_err"
   ]
  },
  {
   "cell_type": "code",
   "execution_count": null,
   "metadata": {
    "collapsed": true
   },
   "outputs": [],
   "source": [
    "val_data = np.ndarray((40479-train_num,256,256,4),dtype = np.float32)\n",
    "val_label = np.ndarray((40479-train_num,17),dtype = np.uint8)\n",
    "val_err = []\n",
    "for i,row in enumerate(val_df):\n",
    "    print i,row\n",
    "    try:\n",
    "        imgname = row[0]\n",
    "        strlabel = row[1]\n",
    "        imgname = imgname.replace(' ','_')\n",
    "        img3 = load_img('./data/train-jpg/'+imgname+'.jpg')\n",
    "        img3 = img_to_array(img3)\n",
    "        img4 = io.imread('./data/train-tif/'+imgname+'.tif')\n",
    "        img4 = img4[:,:,3].astype('float32')\n",
    "        val_data[i,:,:,0:3] = img3/255\n",
    "        val_data[i,:,:,3] = img4/np.power(2,16)\n",
    "        val_label[i] = strToarr(strlabel)\n",
    "    except:\n",
    "        val_err.append(row[0])\n",
    "        val_data = np.delete(val_data,i,0)\n",
    "        val_label = np.delete(val_label,i,0)\n",
    "    \n",
    "np.save('./data/npydata/val_data.npy', val_data)\n",
    "np.save('./data/npydata/val_label.npy', val_label)\n",
    "print val_data.shape\n",
    "print val_label.shape\n",
    "print val_err"
   ]
  },
  {
   "cell_type": "code",
   "execution_count": null,
   "metadata": {
    "collapsed": true
   },
   "outputs": [],
   "source": [
    "test_data = np.ndarray((40669,256,256,4),dtype = np.float32)\n",
    "test_err = []\n",
    "for i,row in enumerate(nptdf):\n",
    "    print i,row\n",
    "    try:\n",
    "        imgname = row[0]\n",
    "        imgname = imgname.replace(' ','_')\n",
    "        img3 = load_img('./data/train-jpg/'+imgname+'.jpg')\n",
    "        img3 = img_to_array(img3)\n",
    "        img4 = io.imread('./data/train-tif/'+imgname+'.tif')\n",
    "        img4 = img4[:,:,3].astype('float32') \n",
    "        test_data[i,:,:,0:3] = img3/255\n",
    "        test_data[i,:,:,3] = img4/np.power(2,16)\n",
    "    except:\n",
    "        test_err.append(row[0])\n",
    "        test_data = np.delete(test_data,i,0)\n",
    "    \n",
    "np.save('./data/npydata/test_data.npy', test_data)\n",
    "print test_data.shape\n",
    "print test_err"
   ]
  }
 ],
 "metadata": {
  "kernelspec": {
   "display_name": "Python 2",
   "language": "python",
   "name": "python2"
  },
  "language_info": {
   "codemirror_mode": {
    "name": "ipython",
    "version": 2
   },
   "file_extension": ".py",
   "mimetype": "text/x-python",
   "name": "python",
   "nbconvert_exporter": "python",
   "pygments_lexer": "ipython2",
   "version": "2.7.12"
  }
 },
 "nbformat": 4,
 "nbformat_minor": 2
}
